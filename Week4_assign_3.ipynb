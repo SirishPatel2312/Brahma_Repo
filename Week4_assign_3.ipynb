{
 "cells": [
  {
   "cell_type": "code",
   "execution_count": 1,
   "id": "70836e6a",
   "metadata": {},
   "outputs": [
    {
     "data": {
      "text/html": [
       "\n",
       "            <div>\n",
       "                <p><b>SparkSession - hive</b></p>\n",
       "                \n",
       "        <div>\n",
       "            <p><b>SparkContext</b></p>\n",
       "\n",
       "            <p><a href=\"http://g01.itversity.com:40151\">Spark UI</a></p>\n",
       "\n",
       "            <dl>\n",
       "              <dt>Version</dt>\n",
       "                <dd><code>v3.1.2</code></dd>\n",
       "              <dt>Master</dt>\n",
       "                <dd><code>yarn</code></dd>\n",
       "              <dt>AppName</dt>\n",
       "                <dd><code>pyspark-shell</code></dd>\n",
       "            </dl>\n",
       "        </div>\n",
       "        \n",
       "            </div>\n",
       "        "
      ],
      "text/plain": [
       "<pyspark.sql.session.SparkSession at 0x7ff0741a4d68>"
      ]
     },
     "execution_count": 1,
     "metadata": {},
     "output_type": "execute_result"
    }
   ],
   "source": [
    "from pyspark.sql import SparkSession\n",
    "import getpass\n",
    "username = getpass.getuser()\n",
    "spark = SparkSession. \\\n",
    "builder. \\\n",
    "config('spark.ui.port','0'). \\\n",
    "config(\"spark.sql.warehouse.dir\", f\"/user/itv008569/warehouse\"). \\\n",
    "enableHiveSupport(). \\\n",
    "master('yarn'). \\\n",
    "getOrCreate()\n",
    "spark"
   ]
  },
  {
   "cell_type": "code",
   "execution_count": 26,
   "id": "d5cd986f",
   "metadata": {},
   "outputs": [
    {
     "data": {
      "text/plain": [
       "[('data', 201),\n",
       " ('sumit', 109),\n",
       " ('trendytech', 67),\n",
       " ('', 64),\n",
       " ('data.', 34),\n",
       " ('course.', 33),\n",
       " (\"sir's\", 23),\n",
       " ('trendy', 14),\n",
       " ('course,', 13),\n",
       " (\"master's\", 13),\n",
       " ('domain.', 12),\n",
       " (\"trendytech's\", 12),\n",
       " ('sir.', 11),\n",
       " ('program.', 9),\n",
       " ('concepts.', 9)]"
      ]
     },
     "execution_count": 26,
     "metadata": {},
     "output_type": "execute_result"
    }
   ],
   "source": [
    "trendytech_base_rdd=spark.sparkContext.textFile(\"/public/trendytech/reviews/trendytech-student-reviews.csv\")\n",
    "trendyBoring_rdd=spark.sparkContext.textFile(\"/user/itv008569/boringwords.txt\")\n",
    "trendyBoring_rdd_boradcast=spark.sparkContext.broadcast(trendyBoring_rdd.collect()) # Broadcasted rdd\n",
    "trendytech_base_flat=trendytech_base_rdd.flatMap(lambda x: x.split(\" \")).map(lambda x: x.lower()).map(lambda x: (x,1)).reduceByKey(lambda x,y: x+y)\n",
    "trendytech_base_filter=trendytech_base_flat.filter(lambda x: x[0] not in trendyBoring_rdd_boradcast.value).reduceByKey(lambda x,y: x+y).sortBy(lambda x:x[1], ascending=False)\n",
    "#Filter using broadcasted rdd in lambda function\n",
    "trendytech_base_filter.take(15)\n",
    "#trendytech_base_flat.take(4)"
   ]
  },
  {
   "cell_type": "code",
   "execution_count": null,
   "id": "333b83f0",
   "metadata": {},
   "outputs": [],
   "source": []
  }
 ],
 "metadata": {
  "kernelspec": {
   "display_name": "Pyspark 3",
   "language": "python",
   "name": "pyspark3"
  },
  "language_info": {
   "codemirror_mode": {
    "name": "ipython",
    "version": 3
   },
   "file_extension": ".py",
   "mimetype": "text/x-python",
   "name": "python",
   "nbconvert_exporter": "python",
   "pygments_lexer": "ipython3",
   "version": "3.6.12"
  }
 },
 "nbformat": 4,
 "nbformat_minor": 5
}
