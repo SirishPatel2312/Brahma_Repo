{
 "cells": [
  {
   "cell_type": "code",
   "execution_count": 55,
   "id": "c57cad93",
   "metadata": {},
   "outputs": [
    {
     "data": {
      "text/html": [
       "\n",
       "            <div>\n",
       "                <p><b>SparkSession - hive</b></p>\n",
       "                \n",
       "        <div>\n",
       "            <p><b>SparkContext</b></p>\n",
       "\n",
       "            <p><a href=\"http://g01.itversity.com:39239\">Spark UI</a></p>\n",
       "\n",
       "            <dl>\n",
       "              <dt>Version</dt>\n",
       "                <dd><code>v3.1.2</code></dd>\n",
       "              <dt>Master</dt>\n",
       "                <dd><code>yarn</code></dd>\n",
       "              <dt>AppName</dt>\n",
       "                <dd><code>pyspark-shell</code></dd>\n",
       "            </dl>\n",
       "        </div>\n",
       "        \n",
       "            </div>\n",
       "        "
      ],
      "text/plain": [
       "<pyspark.sql.session.SparkSession at 0x7fd5f119fd68>"
      ]
     },
     "execution_count": 55,
     "metadata": {},
     "output_type": "execute_result"
    }
   ],
   "source": [
    "from pyspark.sql import SparkSession\n",
    "import getpass\n",
    "username = getpass.getuser()\n",
    "spark = SparkSession. \\\n",
    "builder. \\\n",
    "config('spark.ui.port','0'). \\\n",
    "config(\"spark.sql.warehouse.dir\", f\"/user/itv008569/warehouse\"). \\\n",
    "enableHiveSupport(). \\\n",
    "master('yarn'). \\\n",
    "getOrCreate()\n",
    "spark"
   ]
  },
  {
   "cell_type": "code",
   "execution_count": 11,
   "id": "efffc23c",
   "metadata": {},
   "outputs": [
    {
     "name": "stdout",
     "output_type": "stream",
     "text": [
      "1319\n"
     ]
    }
   ],
   "source": [
    "covid_case_rdd=spark.sparkContext.textFile(\"/public/trendytech/covid19/cases\")\n",
    "covid_states_rdd=spark.sparkContext.textFile(\"/public/trendytech/covid19/states\")\n",
    "covid_case_Q1=covid_case_rdd.map(lambda x: ((x.split(\",\")[1]),int(x.split(\",\")[2]))).reduceByKey(lambda x,y :x+y).sortBy(lambda x: x[1], ascending=False) # Read state and covid positive patients\n",
    "#covid_case_Q1.take(10) # Q1 answer\n",
    "covid_case_Q2=covid_case_rdd.map(lambda x: (int(x.split(\",\")[7])))\n",
    "total_patient_in_ICU=covid_case_Q2.sum()\n",
    "#print(total_patient_in_ICU) #Q2 Answer\n",
    "covid_case_Q2=covid_case_rdd.map(lambda x: ((x.split(\",\")[1]),int(x.split(\",\")[11]))).reduceByKey(lambda x,y :x+y).sortBy(lambda x: x[1], ascending=False) # Read state and covid positive patients\n",
    "#covid_case_Q2.take(15) #Q3 answer\n",
    "covid_case_Q3=covid_case_rdd.map(lambda x: ((x.split(\",\")[1]),int(x.split(\",\")[24]))).reduceByKey(lambda x,y :x+y).sortBy(lambda x: x[1], ascending=True) # Read state and covid positive patients\n",
    "#covid_case_Q3.take(3) # Q4 answer\n",
    "covid_case_Q4=covid_case_rdd.map(lambda x: (int(x.split(\",\")[5])))\n",
    "hospitalizes_Q4=covid_case_Q4.sum()\n",
    "print(hospitalizes_Q4) #Q5 answer"
   ]
  },
  {
   "cell_type": "code",
   "execution_count": 54,
   "id": "f19f8fa3",
   "metadata": {},
   "outputs": [
    {
     "data": {
      "text/plain": [
       "[('AS', ('@ASCovid', 2)),\n",
       " ('GJ', ('@GJCovid', 35)),\n",
       " ('MH', ('@MHCovid', 730)),\n",
       " ('HR', ('@HRCovid', 2)),\n",
       " ('KA', ('@KACovid', 5)),\n",
       " ('AZ', ('@AZCovid', 34)),\n",
       " ('HP', ('@HPCovid', 4)),\n",
       " ('CG', ('@CGCovid', 8)),\n",
       " ('BR', ('@BRCovid', 23)),\n",
       " ('JH', ('@JHCovid', 13)),\n",
       " ('RI', ('@RICovid', 16)),\n",
       " ('CA', ('@CACovid', 515)),\n",
       " ('WA', ('@WACovid', 2100)),\n",
       " ('GA', ('@GACovid', 1034)),\n",
       " ('MI', ('@MICovid', 61))]"
      ]
     },
     "execution_count": 54,
     "metadata": {},
     "output_type": "execute_result"
    }
   ],
   "source": [
    "covid_case_Q6=covid_case_rdd.map(lambda x: (x.split(\",\")[1],(int(x.split(\",\")[28])))).reduceByKey(lambda x,y: x+y) #state, total\n",
    "covid_case_Q65=covid_case_Q6\n",
    "covid_states_Q6=covid_states_rdd.map(lambda x: ((x.split(\",\")[0]),(x.split(\",\")[5]),(int(x.split(\",\")[8])))) # state,twitter and fips\n",
    "x_rdd=covid_states_Q6.join(covid_case_Q6)\n",
    "\n",
    "covidjoin_rdd_Q6=covidjoin_rdd.map(lambda x: (x[0],x[1][0]))#.sortBy(lambda x:x[1], ascending =False)\n",
    "covidjoin_rdd_twitter_Q6=covidjoin_rdd_Q6.join(covidjoin_rdd)#.map(lambda x: (x[0],x[1][1]))\n",
    "x_rdd.take(15)\n",
    "#covidjoin_rdd_twitter_Q6.take(4)"
   ]
  },
  {
   "cell_type": "code",
   "execution_count": null,
   "id": "d0e0e5fc",
   "metadata": {},
   "outputs": [],
   "source": []
  }
 ],
 "metadata": {
  "kernelspec": {
   "display_name": "Pyspark 3",
   "language": "python",
   "name": "pyspark3"
  },
  "language_info": {
   "codemirror_mode": {
    "name": "ipython",
    "version": 3
   },
   "file_extension": ".py",
   "mimetype": "text/x-python",
   "name": "python",
   "nbconvert_exporter": "python",
   "pygments_lexer": "ipython3",
   "version": "3.6.12"
  }
 },
 "nbformat": 4,
 "nbformat_minor": 5
}
