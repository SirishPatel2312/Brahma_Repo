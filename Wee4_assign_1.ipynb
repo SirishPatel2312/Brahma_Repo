{
 "cells": [
  {
   "cell_type": "code",
   "execution_count": 1,
   "id": "bbb1003b",
   "metadata": {},
   "outputs": [],
   "source": [
    "from pyspark.sql import SparkSession\n",
    "import getpass\n",
    "username = getpass.getuser()\n",
    "spark = SparkSession. \\\n",
    "builder. \\\n",
    "config('spark.ui.port','0'). \\\n",
    "config(\"spark.sql.warehouse.dir\", f\"/user/itv008569/warehouse\"). \\\n",
    "enableHiveSupport(). \\\n",
    "master('yarn'). \\\n",
    "getOrCreate()"
   ]
  },
  {
   "cell_type": "code",
   "execution_count": 2,
   "id": "4c77c412",
   "metadata": {},
   "outputs": [
    {
     "data": {
      "text/html": [
       "\n",
       "            <div>\n",
       "                <p><b>SparkSession - hive</b></p>\n",
       "                \n",
       "        <div>\n",
       "            <p><b>SparkContext</b></p>\n",
       "\n",
       "            <p><a href=\"http://g01.itversity.com:42335\">Spark UI</a></p>\n",
       "\n",
       "            <dl>\n",
       "              <dt>Version</dt>\n",
       "                <dd><code>v3.1.2</code></dd>\n",
       "              <dt>Master</dt>\n",
       "                <dd><code>yarn</code></dd>\n",
       "              <dt>AppName</dt>\n",
       "                <dd><code>pyspark-shell</code></dd>\n",
       "            </dl>\n",
       "        </div>\n",
       "        \n",
       "            </div>\n",
       "        "
      ],
      "text/plain": [
       "<pyspark.sql.session.SparkSession at 0x7f7196b6dc88>"
      ]
     },
     "execution_count": 2,
     "metadata": {},
     "output_type": "execute_result"
    }
   ],
   "source": [
    "spark"
   ]
  },
  {
   "cell_type": "code",
   "execution_count": 4,
   "id": "0193094a",
   "metadata": {},
   "outputs": [
    {
     "data": {
      "text/plain": [
       "12405"
      ]
     },
     "execution_count": 4,
     "metadata": {},
     "output_type": "execute_result"
    }
   ],
   "source": [
    "base_order=spark.sparkContext.textFile(\"/public/trendytech/retail_db/orders\")\n",
    "base_order_2=base_order.map(lambda x: (int (x.split(\",\")[0]),int(x.split(\",\")[2])))\n",
    "base_order_detail_rdd= spark.sparkContext.textFile(\"/public/trendytech/retail_db/order_items\")\n",
    "base_order_selected_rdd=base_order_detail_rdd.map(lambda x: (int(x.split(\",\")[1]),float(x.split(\",\")[4])))\n",
    "base_rdd_join=base_order_selected_rdd.join(base_order_2)\n",
    "final_rdd=base_rdd_join.map(lambda x:(x[1][1],x[1][0]))\n",
    "reduce_rdd=final_rdd.reduceByKey(lambda x,y: x+y).sortBy(lambda x:x[1],ascending=False)\n",
    "#reduce_rdd.take(10) ##Q1 answer\n",
    "base_order_Q2=base_order_detail_rdd.map(lambda x: (int(x.split(\",\")[2]),int(x.split(\",\")[3])))\n",
    "reduced_base_order_Q2=base_order_Q2.reduceByKey(lambda x,y: x+y).sortBy(lambda x: x[1],ascending=False)\n",
    "#reduced_base_order_Q2.take(10)  ##Q2 answer\n",
    "base_customer_detail_rdd= spark.sparkContext.textFile(\"/public/trendytech/retail_db/customers\")\n",
    "base_customer_detail_Q3=base_customer_detail_rdd.map(lambda x:( x.split(\",\")[6]))\n",
    "base_customer_detail_Q3_Ans=base_customer_detail_Q3.filter(lambda x: x=='Caguas')\n",
    "base_customer_detail_Q3_Ans.count() ##Q3 answer\n",
    "base_customer_detail_Q4=base_customer_detail_rdd.map(lambda x:( x.split(\",\")[7],1))\n",
    "base_customer_detail_Q4_ans=base_customer_detail_Q4.reduceByKey(lambda x,y: x+y).sortBy(lambda x:x[1],ascending=False)\n",
    "#base_customer_detail_Q4_ans.take(3) ##Q4 answer\n",
    "reduce_rdd_Q5=reduce_rdd.filter(lambda x: x[1]>1000)\n",
    "#reduce_rdd_Q5.count()  ##Q5 answer\n",
    "base_order_Q5_rdd=base_order.map(lambda x:  ((x.split(\",\")[2]),(x.split(\",\")[3])))\n",
    "base_order_filter_Q5=base_order_Q5_rdd.filter(lambda x: x[1]=='CLOSED')\n",
    "base_customer_Q5=base_customer_detail_rdd.map(lambda x: ((x.split(\",\")[0]),( x.split(\",\")[7])))\n",
    "base_order_join_Q5=base_customer_Q5.join(base_order_filter_Q5)\n",
    "final_rdd_Q5=base_order_join_Q5.map(lambda x: (x[1][0],1))\n",
    "final_rdd_state= final_rdd_Q5.reduceByKey( lambda x,y: x+y).sortBy(lambda x:x[1], ascending=False)\n",
    "base_order_Q56rdd=base_order.map(lambda x:  ((x.split(\",\")[2],1)))\n",
    "base_order_Q6=base_order_Q56rdd.reduceByKey(lambda x,y : x+y)\n",
    "base_order_Q6.count() #Q6 answer\n",
    "\n",
    "base_order_Q7=base_order_detail_rdd.map(lambda x: (int(x.split(\",\")[0]),int(x.split(\",\")[1]))) #Order_Id, customer_id\n",
    "base_customer_detail_Q7=base_customer_detail_rdd.map(lambda x:((int( x.split(\",\")[0])),( x.split(\",\")[7]))) # customer_id,customer_state\n",
    "base_order_customer_join_Q7=base_order_Q7.join(base_customer_detail_Q7).map(lambda x: (x[0],x[1][1])) #Order_id, customer_state\n",
    "base_order_selected_Q7=base_order_detail_rdd.map(lambda x: (int(x.split(\",\")[1]),float(x.split(\",\")[4]))) #Order id,order_item_subtotal\n",
    "final_rdd_Q7=base_order_customer_join_Q7.join(base_order_selected_Q7).map (lambda x: (x[1][0],x[1][1])).reduceByKey(lambda x,y : x+y).sortBy(lambda x:x[1], ascending=False) #order id ,customer_state, order_item_subtotal\n",
    "final_rdd_Q7.collect() #Q7 answer0\n"
   ]
  },
  {
   "cell_type": "code",
   "execution_count": 19,
   "id": "4d30c277",
   "metadata": {},
   "outputs": [
    {
     "data": {
      "text/plain": [
       "[('PR', 2374562.529999976),\n",
       " ('CA', 966514.4300000025),\n",
       " ('NY', 398774.0800000004),\n",
       " ('TX', 297226.76000000007),\n",
       " ('IL', 251831.33000000016),\n",
       " ('FL', 180943.52000000008),\n",
       " ('PA', 138451.59999999998),\n",
       " ('OH', 130595.46999999999),\n",
       " ('MI', 124369.04999999993),\n",
       " ('NJ', 111204.99999999994),\n",
       " ('AZ', 106321.23999999996),\n",
       " ('GA', 85722.04999999994),\n",
       " ('NC', 76741.75999999994),\n",
       " ('VA', 72012.34999999996),\n",
       " ('MD', 70963.35999999996),\n",
       " ('OR', 63527.52999999996),\n",
       " ('MA', 59140.47999999997),\n",
       " ('CO', 55927.83999999998),\n",
       " ('NV', 53240.869999999966),\n",
       " ('TN', 50566.10999999997),\n",
       " ('MO', 45753.709999999985),\n",
       " ('HI', 44647.01999999998),\n",
       " ('CT', 38686.229999999996),\n",
       " ('NM', 35113.219999999994),\n",
       " ('WA', 34325.36999999999),\n",
       " ('UT', 32113.09999999999),\n",
       " ('WI', 31983.46),\n",
       " ('LA', 31708.119999999988),\n",
       " ('SC', 26875.75),\n",
       " ('DC', 24573.909999999996),\n",
       " ('KY', 18573.56),\n",
       " ('IN', 17781.659999999996),\n",
       " ('MN', 17132.98),\n",
       " ('KS', 12533.579999999998),\n",
       " ('DE', 11056.720000000001),\n",
       " ('OK', 8254.91),\n",
       " ('ND', 7813.090000000001),\n",
       " ('RI', 6162.29),\n",
       " ('AR', 5739.35),\n",
       " ('WV', 5539.44),\n",
       " ('MT', 4309.47),\n",
       " ('ID', 3484.59),\n",
       " ('IA', 2469.5499999999997),\n",
       " ('AL', 889.9100000000001)]"
      ]
     },
     "execution_count": 19,
     "metadata": {},
     "output_type": "execute_result"
    }
   ],
   "source": [
    "ake(5)\n",
    "#Q7_join=base_customer_detail_Q7.join(base_order_selected_rdd).map(lambda x : (x[1][0],x[1][1]))\n",
    "#Q7_join_state=Q7_join.reduceByKey(lambda x,y: x+y).sortBy(lambda x:x[1], ascending=False)\n",
    "#Q7_join_state.take(10)\n",
    "#base_order_selected_rdd.take(5)\n",
    "#base_order_selected_Q7=base_order_detail_rdd.map(lambda x: (int(x.split(\",\")[1]),float(x.split(\",\")[4])))"
   ]
  },
  {
   "cell_type": "code",
   "execution_count": null,
   "id": "e7790d06",
   "metadata": {},
   "outputs": [],
   "source": []
  }
 ],
 "metadata": {
  "kernelspec": {
   "display_name": "Pyspark 3",
   "language": "python",
   "name": "pyspark3"
  },
  "language_info": {
   "codemirror_mode": {
    "name": "ipython",
    "version": 3
   },
   "file_extension": ".py",
   "mimetype": "text/x-python",
   "name": "python",
   "nbconvert_exporter": "python",
   "pygments_lexer": "ipython3",
   "version": "3.6.12"
  }
 },
 "nbformat": 4,
 "nbformat_minor": 5
}
