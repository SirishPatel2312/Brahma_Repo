{
 "cells": [
  {
   "cell_type": "code",
   "execution_count": 3,
   "id": "4bb63279",
   "metadata": {},
   "outputs": [],
   "source": [
    "from pyspark.sql import SparkSession\n",
    "import getpass\n",
    "username = getpass.getuser()\n",
    "spark = SparkSession. \\\n",
    "builder. \\\n",
    "config('spark.ui.port','0'). \\\n",
    "config(\"spark.sql.warehouse.dir\", f\"/user/itv000173/warehouse\"). \\\n",
    "enableHiveSupport(). \\\n",
    "master('yarn'). \\\n",
    "getOrCreate()"
   ]
  },
  {
   "cell_type": "code",
   "execution_count": 4,
   "id": "7a0f5c5c",
   "metadata": {},
   "outputs": [],
   "source": [
    "rdd1=spark.sparkContext.textFile(\"/user/itv008569/data/input/linkedin_views.csv\")"
   ]
  },
  {
   "cell_type": "code",
   "execution_count": 35,
   "id": "3f8712f7",
   "metadata": {},
   "outputs": [],
   "source": [
    "rdd2 = rdd1.map(lambda x : x.split(\",\")[2])"
   ]
  },
  {
   "cell_type": "code",
   "execution_count": 29,
   "id": "7ef03ea5",
   "metadata": {},
   "outputs": [],
   "source": [
    "rdd3=rdd2.map(lambda word: (word,1))"
   ]
  },
  {
   "cell_type": "code",
   "execution_count": 31,
   "id": "3ce68fd9",
   "metadata": {},
   "outputs": [],
   "source": [
    "rdd4=rdd3.reduceByKey(lambda x,y : x+y)"
   ]
  },
  {
   "cell_type": "code",
   "execution_count": 36,
   "id": "2f35d16a",
   "metadata": {},
   "outputs": [
    {
     "data": {
      "text/plain": [
       "[(\"'Manasa'\", 2), (\"'Deepa'\", 2), (\"'Sumit'\", 1)]"
      ]
     },
     "execution_count": 36,
     "metadata": {},
     "output_type": "execute_result"
    }
   ],
   "source": [
    "rdd4.collect()"
   ]
  },
  {
   "cell_type": "code",
   "execution_count": null,
   "id": "0b132171",
   "metadata": {},
   "outputs": [],
   "source": []
  }
 ],
 "metadata": {
  "kernelspec": {
   "display_name": "Pyspark 3",
   "language": "python",
   "name": "pyspark3"
  },
  "language_info": {
   "codemirror_mode": {
    "name": "ipython",
    "version": 3
   },
   "file_extension": ".py",
   "mimetype": "text/x-python",
   "name": "python",
   "nbconvert_exporter": "python",
   "pygments_lexer": "ipython3",
   "version": "3.6.12"
  }
 },
 "nbformat": 4,
 "nbformat_minor": 5
}
